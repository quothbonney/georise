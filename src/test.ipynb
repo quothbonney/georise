{
 "cells": [
  {
   "cell_type": "code",
   "execution_count": 1,
   "metadata": {},
   "outputs": [
    {
     "name": "stdout",
     "output_type": "stream",
     "text": [
      "2048.tif  n27_w111_1arc_v3.dted  n37_w107_1arc_v3.tif\n",
      "512.tif   n37_w104_1arc_v3.tif\t n37_w108_1arc_v3.tif\n"
     ]
    }
   ],
   "source": [
    "!ls ../data"
   ]
  },
  {
   "cell_type": "code",
   "execution_count": 8,
   "metadata": {},
   "outputs": [
    {
     "data": {
      "text/plain": [
       "0"
      ]
     },
     "execution_count": 8,
     "metadata": {},
     "output_type": "execute_result"
    }
   ],
   "source": [
    "from osgeo import ogr, osr, gdal\n",
    "\n",
    "filepath = '../data/n37_w104_1arc_v3.tif'\n",
    "\n",
    "dataset = gdal.Open(filepath)\n",
    "\n",
    "# Get the projection information as a WKT (Well-Known Text) string\n",
    "wkt_projection = dataset.GetProjection()\n",
    "\n",
    "# Create a SpatialReference object from the WKT string\n",
    "spatial_ref = osr.SpatialReference()\n",
    "spatial_ref.ImportFromWkt(wkt_projection)"
   ]
  },
  {
   "cell_type": "code",
   "execution_count": 13,
   "metadata": {},
   "outputs": [
    {
     "data": {
      "text/plain": [
       "0"
      ]
     },
     "execution_count": 13,
     "metadata": {},
     "output_type": "execute_result"
    }
   ],
   "source": [
    "spatial_ref.Validate()"
   ]
  },
  {
   "cell_type": "code",
   "execution_count": 15,
   "metadata": {},
   "outputs": [
    {
     "ename": "TypeError",
     "evalue": "cannot unpack non-iterable float object",
     "output_type": "error",
     "traceback": [
      "\u001b[0;31m---------------------------------------------------------------------------\u001b[0m",
      "\u001b[0;31mTypeError\u001b[0m                                 Traceback (most recent call last)",
      "\u001b[1;32m/home/quothbonney/projects/georise/src/test.ipynb Cell 4\u001b[0m in \u001b[0;36m<cell line: 30>\u001b[0;34m()\u001b[0m\n\u001b[1;32m     <a href='vscode-notebook-cell:/home/quothbonney/projects/georise/src/test.ipynb#W3sZmlsZQ%3D%3D?line=26'>27</a>\u001b[0m lat, lon \u001b[39m=\u001b[39m \u001b[39m60\u001b[39m, \u001b[39m0\u001b[39m\n\u001b[1;32m     <a href='vscode-notebook-cell:/home/quothbonney/projects/georise/src/test.ipynb#W3sZmlsZQ%3D%3D?line=28'>29</a>\u001b[0m \u001b[39m# Calculate and print the scale distortion at the specified point\u001b[39;00m\n\u001b[0;32m---> <a href='vscode-notebook-cell:/home/quothbonney/projects/georise/src/test.ipynb#W3sZmlsZQ%3D%3D?line=29'>30</a>\u001b[0m distortion \u001b[39m=\u001b[39m scale_distortion(lat, lon, spatial_ref)\n\u001b[1;32m     <a href='vscode-notebook-cell:/home/quothbonney/projects/georise/src/test.ipynb#W3sZmlsZQ%3D%3D?line=30'>31</a>\u001b[0m \u001b[39mprint\u001b[39m(\u001b[39m\"\u001b[39m\u001b[39mScale distortion at (lat, lon) = (\u001b[39m\u001b[39m{}\u001b[39;00m\u001b[39m, \u001b[39m\u001b[39m{}\u001b[39;00m\u001b[39m): \u001b[39m\u001b[39m{:.4f}\u001b[39;00m\u001b[39m\"\u001b[39m\u001b[39m.\u001b[39mformat(lat, lon, distortion))\n",
      "\u001b[1;32m/home/quothbonney/projects/georise/src/test.ipynb Cell 4\u001b[0m in \u001b[0;36mscale_distortion\u001b[0;34m(lat, lon, spatial_ref)\u001b[0m\n\u001b[1;32m      <a href='vscode-notebook-cell:/home/quothbonney/projects/georise/src/test.ipynb#W3sZmlsZQ%3D%3D?line=6'>7</a>\u001b[0m lon_rad \u001b[39m=\u001b[39m math\u001b[39m.\u001b[39mradians(lon)\n\u001b[1;32m      <a href='vscode-notebook-cell:/home/quothbonney/projects/georise/src/test.ipynb#W3sZmlsZQ%3D%3D?line=8'>9</a>\u001b[0m \u001b[39m# Get the partial derivatives of the projection with respect to latitude and longitude\u001b[39;00m\n\u001b[0;32m---> <a href='vscode-notebook-cell:/home/quothbonney/projects/georise/src/test.ipynb#W3sZmlsZQ%3D%3D?line=9'>10</a>\u001b[0m x_partial_lat, y_partial_lat, x_partial_lon, y_partial_lon \u001b[39m=\u001b[39m spatial_ref\u001b[39m.\u001b[39mGetProjParm(osr\u001b[39m.\u001b[39mSRS_PP_SCALE_FACTOR, \u001b[39m1\u001b[39m) \u001b[39m*\u001b[39m spatial_ref\u001b[39m.\u001b[39mGetSemiMajor()\n\u001b[1;32m     <a href='vscode-notebook-cell:/home/quothbonney/projects/georise/src/test.ipynb#W3sZmlsZQ%3D%3D?line=11'>12</a>\u001b[0m \u001b[39m# Calculate the scale distortion at the specified point\u001b[39;00m\n\u001b[1;32m     <a href='vscode-notebook-cell:/home/quothbonney/projects/georise/src/test.ipynb#W3sZmlsZQ%3D%3D?line=12'>13</a>\u001b[0m distortion \u001b[39m=\u001b[39m math\u001b[39m.\u001b[39msqrt((x_partial_lat \u001b[39m*\u001b[39m\u001b[39m*\u001b[39m \u001b[39m2\u001b[39m \u001b[39m+\u001b[39m y_partial_lat \u001b[39m*\u001b[39m\u001b[39m*\u001b[39m \u001b[39m2\u001b[39m \u001b[39m+\u001b[39m x_partial_lon \u001b[39m*\u001b[39m\u001b[39m*\u001b[39m \u001b[39m2\u001b[39m \u001b[39m+\u001b[39m y_partial_lon \u001b[39m*\u001b[39m\u001b[39m*\u001b[39m \u001b[39m2\u001b[39m) \u001b[39m/\u001b[39m \u001b[39m2\u001b[39m)\n",
      "\u001b[0;31mTypeError\u001b[0m: cannot unpack non-iterable float object"
     ]
    }
   ],
   "source": [
    "import math\n",
    "from osgeo import gdal, osr\n",
    "\n",
    "def scale_distortion(lat, lon, spatial_ref):\n",
    "    # Convert geographic coordinates to radians\n",
    "    lat_rad = math.radians(lat)\n",
    "    lon_rad = math.radians(lon)\n",
    "\n",
    "    # Get the partial derivatives of the projection with respect to latitude and longitude\n",
    "    x_partial_lat, y_partial_lat, x_partial_lon, y_partial_lon = spatial_ref.GetProjParm(osr.SRS_PP_SCALE_FACTOR, 1) * spatial_ref.GetSemiMajor()\n",
    "\n",
    "    # Calculate the scale distortion at the specified point\n",
    "    distortion = math.sqrt((x_partial_lat ** 2 + y_partial_lat ** 2 + x_partial_lon ** 2 + y_partial_lon ** 2) / 2)\n",
    "    return distortion\n",
    "\n",
    "# Open the GeoTIFF file\n",
    "dataset = gdal.Open(filepath)\n",
    "\n",
    "# Get the projection information as a WKT (Well-Known Text) string\n",
    "wkt_projection = dataset.GetProjection()\n",
    "\n",
    "# Create a SpatialReference object from the WKT string\n",
    "spatial_ref = osr.SpatialReference()\n",
    "spatial_ref.ImportFromWkt(wkt_projection)\n",
    "\n",
    "# Specify the latitude and longitude where you want to calculate the distortion\n",
    "lat, lon = 60, 0\n",
    "\n",
    "# Calculate and print the scale distortion at the specified point\n",
    "distortion = scale_distortion(lat, lon, spatial_ref)\n",
    "print(\"Scale distortion at (lat, lon) = ({}, {}): {:.4f}\".format(lat, lon, distortion))\n"
   ]
  },
  {
   "cell_type": "code",
   "execution_count": 16,
   "metadata": {},
   "outputs": [
    {
     "name": "stdout",
     "output_type": "stream",
     "text": [
      "/usr/lib/python3/dist-packages/secretstorage/dhcrypto.py:15: CryptographyDeprecationWarning: int_from_bytes is deprecated, use int.from_bytes instead\n",
      "  from cryptography.utils import int_from_bytes\n",
      "/usr/lib/python3/dist-packages/secretstorage/util.py:19: CryptographyDeprecationWarning: int_from_bytes is deprecated, use int.from_bytes instead\n",
      "  from cryptography.utils import int_from_bytes\n",
      "Collecting pyproj\n",
      "  Downloading pyproj-3.5.0-cp38-cp38-manylinux_2_17_x86_64.manylinux2014_x86_64.whl (7.8 MB)\n",
      "\u001b[K     |████████████████████████████████| 7.8 MB 843 kB/s eta 0:00:01\n",
      "\u001b[?25hRequirement already satisfied: certifi in /usr/lib/python3/dist-packages (from pyproj) (2019.11.28)\n",
      "Installing collected packages: pyproj\n",
      "Successfully installed pyproj-3.5.0\n"
     ]
    }
   ],
   "source": [
    "!python3 -m pip install pyproj"
   ]
  },
  {
   "cell_type": "code",
   "execution_count": 17,
   "metadata": {},
   "outputs": [
    {
     "name": "stdout",
     "output_type": "stream",
     "text": [
      "Scale distortion at (lat, lon) = (60, 0): 84852813.035279\n"
     ]
    }
   ],
   "source": [
    "import math\n",
    "from osgeo import gdal, osr\n",
    "import pyproj\n",
    "\n",
    "# Open the GeoTIFF file\n",
    "dataset = gdal.Open(filepath)\n",
    "\n",
    "# Get the projection information as a WKT (Well-Known Text) string\n",
    "wkt_projection = dataset.GetProjection()\n",
    "\n",
    "# Create a SpatialReference object from the WKT string\n",
    "spatial_ref = osr.SpatialReference()\n",
    "spatial_ref.ImportFromWkt(wkt_projection)\n",
    "\n",
    "# Get the EPSG code of the spatial reference\n",
    "epsg_code = spatial_ref.GetAuthorityCode(None)\n",
    "\n",
    "# Create pyproj Transformer objects\n",
    "transformer_to_proj = pyproj.Transformer.from_crs(f\"EPSG:{epsg_code}\", \"EPSG:4326\", always_xy=True)\n",
    "transformer_to_geog = pyproj.Transformer.from_crs(\"EPSG:4326\", f\"EPSG:{epsg_code}\", always_xy=True)\n",
    "\n",
    "# Specify the latitude and longitude where you want to calculate the distortion\n",
    "lat, lon = 60, 0\n",
    "\n",
    "# Transform the geographic coordinates to projected coordinates\n",
    "x, y = transformer_to_geog.transform(lon, lat)\n",
    "\n",
    "# Calculate the scale distortion using the Tissot's indicatrix method\n",
    "delta = 1e-6\n",
    "x_plus_delta, y_plus_delta = transformer_to_proj.transform(x + delta, y)\n",
    "lat_plus_delta, lon_plus_delta = x_plus_delta, y_plus_delta\n",
    "\n",
    "scale_distortion = math.sqrt((lat_plus_delta - lat)**2 + (lon_plus_delta - lon)**2) / delta\n",
    "\n",
    "# Print the scale distortion at the specified point\n",
    "print(\"Scale distortion at (lat, lon) = ({}, {}): {:.6f}\".format(lat, lon, scale_distortion))\n"
   ]
  },
  {
   "cell_type": "code",
   "execution_count": 18,
   "metadata": {},
   "outputs": [
    {
     "ename": "TypeError",
     "evalue": "unhashable type: 'pyproj._crs.Ellipsoid'",
     "output_type": "error",
     "traceback": [
      "\u001b[0;31m---------------------------------------------------------------------------\u001b[0m",
      "\u001b[0;31mTypeError\u001b[0m                                 Traceback (most recent call last)",
      "\u001b[1;32m/home/quothbonney/projects/georise/src/test.ipynb Cell 7\u001b[0m in \u001b[0;36m<cell line: 39>\u001b[0;34m()\u001b[0m\n\u001b[1;32m     <a href='vscode-notebook-cell:/home/quothbonney/projects/georise/src/test.ipynb#W6sZmlsZQ%3D%3D?line=35'>36</a>\u001b[0m lat, lon \u001b[39m=\u001b[39m \u001b[39m60\u001b[39m, \u001b[39m0\u001b[39m\n\u001b[1;32m     <a href='vscode-notebook-cell:/home/quothbonney/projects/georise/src/test.ipynb#W6sZmlsZQ%3D%3D?line=37'>38</a>\u001b[0m \u001b[39m# Calculate and print the scale distortion at the specified point\u001b[39;00m\n\u001b[0;32m---> <a href='vscode-notebook-cell:/home/quothbonney/projects/georise/src/test.ipynb#W6sZmlsZQ%3D%3D?line=38'>39</a>\u001b[0m scale_distortion_lat, scale_distortion_lon \u001b[39m=\u001b[39m scale_distortion(lat, lon, crs_proj)\n\u001b[1;32m     <a href='vscode-notebook-cell:/home/quothbonney/projects/georise/src/test.ipynb#W6sZmlsZQ%3D%3D?line=39'>40</a>\u001b[0m \u001b[39mprint\u001b[39m(\u001b[39m\"\u001b[39m\u001b[39mScale distortion at (lat, lon) = (\u001b[39m\u001b[39m{}\u001b[39;00m\u001b[39m, \u001b[39m\u001b[39m{}\u001b[39;00m\u001b[39m):\u001b[39m\u001b[39m\"\u001b[39m\u001b[39m.\u001b[39mformat(lat, lon))\n\u001b[1;32m     <a href='vscode-notebook-cell:/home/quothbonney/projects/georise/src/test.ipynb#W6sZmlsZQ%3D%3D?line=40'>41</a>\u001b[0m \u001b[39mprint\u001b[39m(\u001b[39m\"\u001b[39m\u001b[39m  Latitude: \u001b[39m\u001b[39m{:.6f}\u001b[39;00m\u001b[39m\"\u001b[39m\u001b[39m.\u001b[39mformat(scale_distortion_lat))\n",
      "\u001b[1;32m/home/quothbonney/projects/georise/src/test.ipynb Cell 7\u001b[0m in \u001b[0;36mscale_distortion\u001b[0;34m(lat, lon, crs_proj)\u001b[0m\n\u001b[1;32m      <a href='vscode-notebook-cell:/home/quothbonney/projects/georise/src/test.ipynb#W6sZmlsZQ%3D%3D?line=0'>1</a>\u001b[0m \u001b[39mdef\u001b[39;00m \u001b[39mscale_distortion\u001b[39m(lat, lon, crs_proj):\n\u001b[1;32m      <a href='vscode-notebook-cell:/home/quothbonney/projects/georise/src/test.ipynb#W6sZmlsZQ%3D%3D?line=1'>2</a>\u001b[0m     \u001b[39m# Create a Geod object for distance calculations\u001b[39;00m\n\u001b[0;32m----> <a href='vscode-notebook-cell:/home/quothbonney/projects/georise/src/test.ipynb#W6sZmlsZQ%3D%3D?line=2'>3</a>\u001b[0m     geod \u001b[39m=\u001b[39m pyproj\u001b[39m.\u001b[39;49mGeod(ellps\u001b[39m=\u001b[39;49mcrs_proj\u001b[39m.\u001b[39;49mellipsoid)\n\u001b[1;32m      <a href='vscode-notebook-cell:/home/quothbonney/projects/georise/src/test.ipynb#W6sZmlsZQ%3D%3D?line=4'>5</a>\u001b[0m     \u001b[39m# Calculate the distance in the projected CRS along latitude and longitude\u001b[39;00m\n\u001b[1;32m      <a href='vscode-notebook-cell:/home/quothbonney/projects/georise/src/test.ipynb#W6sZmlsZQ%3D%3D?line=5'>6</a>\u001b[0m     delta \u001b[39m=\u001b[39m \u001b[39m1e-5\u001b[39m  \u001b[39m# Small delta for derivative approximation\u001b[39;00m\n",
      "File \u001b[0;32m~/.local/lib/python3.8/site-packages/pyproj/geod.py:229\u001b[0m, in \u001b[0;36mGeod.__init__\u001b[0;34m(self, initstring, **kwargs)\u001b[0m\n\u001b[1;32m    221\u001b[0m sphere \u001b[39m=\u001b[39m \u001b[39mFalse\u001b[39;00m\n\u001b[1;32m    222\u001b[0m \u001b[39mif\u001b[39;00m \u001b[39m\"\u001b[39m\u001b[39mellps\u001b[39m\u001b[39m\"\u001b[39m \u001b[39min\u001b[39;00m kwargs:\n\u001b[1;32m    223\u001b[0m     (\n\u001b[1;32m    224\u001b[0m         semi_major_axis,\n\u001b[1;32m    225\u001b[0m         semi_minor_axis,\n\u001b[1;32m    226\u001b[0m         flattening,\n\u001b[1;32m    227\u001b[0m         eccentricity_squared,\n\u001b[1;32m    228\u001b[0m         sphere,\n\u001b[0;32m--> 229\u001b[0m     ) \u001b[39m=\u001b[39m _params_from_ellps_map(kwargs[\u001b[39m\"\u001b[39;49m\u001b[39mellps\u001b[39;49m\u001b[39m\"\u001b[39;49m])\n\u001b[1;32m    230\u001b[0m \u001b[39melse\u001b[39;00m:\n\u001b[1;32m    231\u001b[0m     (\n\u001b[1;32m    232\u001b[0m         semi_major_axis,\n\u001b[1;32m    233\u001b[0m         semi_minor_axis,\n\u001b[1;32m    234\u001b[0m         flattening,\n\u001b[1;32m    235\u001b[0m         eccentricity_squared,\n\u001b[1;32m    236\u001b[0m     ) \u001b[39m=\u001b[39m _params_from_kwargs(kwargs)\n",
      "File \u001b[0;32m~/.local/lib/python3.8/site-packages/pyproj/geod.py:49\u001b[0m, in \u001b[0;36m_params_from_ellps_map\u001b[0;34m(ellps)\u001b[0m\n\u001b[1;32m     35\u001b[0m \u001b[39mdef\u001b[39;00m \u001b[39m_params_from_ellps_map\u001b[39m(ellps: \u001b[39mstr\u001b[39m) \u001b[39m-\u001b[39m\u001b[39m>\u001b[39m Tuple[\u001b[39mfloat\u001b[39m, \u001b[39mfloat\u001b[39m, \u001b[39mfloat\u001b[39m, \u001b[39mfloat\u001b[39m, \u001b[39mbool\u001b[39m]:\n\u001b[1;32m     36\u001b[0m     \u001b[39m\"\"\"\u001b[39;00m\n\u001b[1;32m     37\u001b[0m \u001b[39m    Build Geodesic parameters from PROJ ellips map\u001b[39;00m\n\u001b[1;32m     38\u001b[0m \n\u001b[0;32m   (...)\u001b[0m\n\u001b[1;32m     47\u001b[0m \n\u001b[1;32m     48\u001b[0m \u001b[39m    \"\"\"\u001b[39;00m\n\u001b[0;32m---> 49\u001b[0m     ellps_dict \u001b[39m=\u001b[39m pj_ellps[ellps]\n\u001b[1;32m     50\u001b[0m     semi_major_axis: \u001b[39mfloat\u001b[39m \u001b[39m=\u001b[39m ellps_dict[\u001b[39m\"\u001b[39m\u001b[39ma\u001b[39m\u001b[39m\"\u001b[39m]\n\u001b[1;32m     51\u001b[0m     sphere \u001b[39m=\u001b[39m \u001b[39mFalse\u001b[39;00m\n",
      "\u001b[0;31mTypeError\u001b[0m: unhashable type: 'pyproj._crs.Ellipsoid'"
     ]
    }
   ],
   "source": [
    "def scale_distortion(lat, lon, crs_proj):\n",
    "    # Create a Geod object for distance calculations\n",
    "    geod = pyproj.Geod(ellps=crs_proj.ellipsoid)\n",
    "\n",
    "    # Calculate the distance in the projected CRS along latitude and longitude\n",
    "    delta = 1e-5  # Small delta for derivative approximation\n",
    "    dist_proj_lat = geod.line_length([(lon, lat), (lon, lat + delta)])\n",
    "    dist_proj_lon = geod.line_length([(lon, lat), (lon + delta, lat)])\n",
    "\n",
    "    # Calculate the distance in the geographic CRS (WGS84) along latitude and longitude\n",
    "    dist_geog_lat = geod.line_length([(lon, lat), (lon, lat + delta)], radians=False)\n",
    "    dist_geog_lon = geod.line_length([(lon, lat), (lon + delta, lat)], radians=False)\n",
    "\n",
    "    # Calculate the scale distortion\n",
    "    scale_distortion_lat = dist_proj_lat / dist_geog_lat\n",
    "    scale_distortion_lon = dist_proj_lon / dist_geog_lon\n",
    "\n",
    "    return scale_distortion_lat, scale_distortion_lon\n",
    "\n",
    "# Open the GeoTIFF file\n",
    "\n",
    "# Get the projection information as a WKT (Well-Known Text) string\n",
    "wkt_projection = dataset.GetProjection()\n",
    "\n",
    "# Create a SpatialReference object from the WKT string\n",
    "spatial_ref = osr.SpatialReference()\n",
    "spatial_ref.ImportFromWkt(wkt_projection)\n",
    "\n",
    "# Get the EPSG code of the spatial reference\n",
    "epsg_code = spatial_ref.GetAuthorityCode(None)\n",
    "\n",
    "# Create the pyproj CRS object for the projected CRS\n",
    "crs_proj = pyproj.CRS.from_epsg(epsg_code)\n",
    "\n",
    "# Specify the latitude and longitude where you want to calculate the distortion\n",
    "lat, lon = 60, 0\n",
    "\n",
    "# Calculate and print the scale distortion at the specified point\n",
    "scale_distortion_lat, scale_distortion_lon = scale_distortion(lat, lon, crs_proj)\n",
    "print(\"Scale distortion at (lat, lon) = ({}, {}):\".format(lat, lon))\n",
    "print(\"  Latitude: {:.6f}\".format(scale_distortion_lat))\n",
    "print(\"  Longitude: {:.6f}\".format(scale_distortion_lon))\n"
   ]
  },
  {
   "cell_type": "code",
   "execution_count": 19,
   "metadata": {},
   "outputs": [
    {
     "data": {
      "text/plain": [
       "'GEOGCS[\"WGS 84\",DATUM[\"WGS_1984\",SPHEROID[\"WGS 84\",6378137,298.257223563,AUTHORITY[\"EPSG\",\"7030\"]],AUTHORITY[\"EPSG\",\"6326\"]],PRIMEM[\"Greenwich\",0],UNIT[\"degree\",0.0174532925199433,AUTHORITY[\"EPSG\",\"9122\"]],AXIS[\"Latitude\",NORTH],AXIS[\"Longitude\",EAST],AUTHORITY[\"EPSG\",\"4326\"]]'"
      ]
     },
     "execution_count": 19,
     "metadata": {},
     "output_type": "execute_result"
    }
   ],
   "source": [
    "dataset.GetProjection()"
   ]
  },
  {
   "cell_type": "code",
   "execution_count": 20,
   "metadata": {},
   "outputs": [
    {
     "ename": "AttributeError",
     "evalue": "'Dataset' object has no attribute 'SpatialReference'",
     "output_type": "error",
     "traceback": [
      "\u001b[0;31m---------------------------------------------------------------------------\u001b[0m",
      "\u001b[0;31mAttributeError\u001b[0m                            Traceback (most recent call last)",
      "\u001b[1;32m/home/quothbonney/projects/georise/src/test.ipynb Cell 9\u001b[0m in \u001b[0;36m<cell line: 1>\u001b[0;34m()\u001b[0m\n\u001b[0;32m----> <a href='vscode-notebook-cell:/home/quothbonney/projects/georise/src/test.ipynb#X11sZmlsZQ%3D%3D?line=0'>1</a>\u001b[0m dataset\u001b[39m.\u001b[39;49mSpatialReference()\n",
      "\u001b[0;31mAttributeError\u001b[0m: 'Dataset' object has no attribute 'SpatialReference'"
     ]
    }
   ],
   "source": [
    "dataset.SpatialReference()"
   ]
  },
  {
   "cell_type": "code",
   "execution_count": 21,
   "metadata": {},
   "outputs": [
    {
     "name": "stdout",
     "output_type": "stream",
     "text": [
      "Projection name:  None\n",
      "Geographic coordinate system:  WGS 84\n",
      "Datum:  WGS_1984\n",
      "Unit:  degree\n"
     ]
    }
   ],
   "source": [
    "dataset = gdal.Open(filepath)\n",
    "\n",
    "# Get the projection information as a WKT (Well-Known Text) string\n",
    "wkt_projection = dataset.GetProjection()\n",
    "\n",
    "# Create a SpatialReference object from the WKT string\n",
    "spatial_ref = osr.SpatialReference()\n",
    "spatial_ref.ImportFromWkt(wkt_projection)\n",
    "\n",
    "# Extract and print information about the coordinate system and projection\n",
    "projection_name = spatial_ref.GetAttrValue('PROJECTION')\n",
    "geographic_coordinate_system = spatial_ref.GetAttrValue('GEOGCS')\n",
    "datum = spatial_ref.GetAttrValue('DATUM')\n",
    "unit = spatial_ref.GetAttrValue('UNIT')\n",
    "\n",
    "print(\"Projection name: \", projection_name)\n",
    "print(\"Geographic coordinate system: \", geographic_coordinate_system)\n",
    "print(\"Datum: \", datum)\n",
    "print(\"Unit: \", unit)\n"
   ]
  },
  {
   "cell_type": "code",
   "execution_count": null,
   "metadata": {},
   "outputs": [],
   "source": []
  }
 ],
 "metadata": {
  "kernelspec": {
   "display_name": "Python 3",
   "language": "python",
   "name": "python3"
  },
  "language_info": {
   "codemirror_mode": {
    "name": "ipython",
    "version": 3
   },
   "file_extension": ".py",
   "mimetype": "text/x-python",
   "name": "python",
   "nbconvert_exporter": "python",
   "pygments_lexer": "ipython3",
   "version": "3.8.10"
  },
  "orig_nbformat": 4,
  "vscode": {
   "interpreter": {
    "hash": "31f2aee4e71d21fbe5cf8b01ff0e069b9275f58929596ceb00d14d90e3e16cd6"
   }
  }
 },
 "nbformat": 4,
 "nbformat_minor": 2
}
